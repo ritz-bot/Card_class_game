{
 "cells": [
  {
   "cell_type": "code",
   "execution_count": 1,
   "metadata": {},
   "outputs": [],
   "source": [
    "import random\n",
    "suits = ('Hearts', 'Diamonds', 'Spades', 'Clubs')\n",
    "ranks = ('Two', 'Three', 'Four', 'Five', 'Six', 'Seven', 'Eight', 'Nine', 'Ten', 'Jack', 'Queen', 'King', 'Ace')\n",
    "values = {'Two':2, 'Three':3, 'Four':4, 'Five':5, 'Six':6, 'Seven':7, 'Eight':8, \n",
    "            'Nine':9, 'Ten':10, 'Jack':11, 'Queen':12, 'King':13, 'Ace':14}"
   ]
  },
  {
   "cell_type": "code",
   "execution_count": 2,
   "metadata": {},
   "outputs": [],
   "source": [
    "class Card():\n",
    "    def __init__(self,suit,rank):\n",
    "        self.rank=rank\n",
    "        self.suit=suit\n",
    "        self.value=values[rank]\n",
    "        \n",
    "    def __str__(self):\n",
    "        return f\"{self.rank} of {self.suit}\""
   ]
  },
  {
   "cell_type": "code",
   "execution_count": 3,
   "metadata": {},
   "outputs": [],
   "source": [
    "class Deck:\n",
    "    def __init__(self):\n",
    "        self.all_cards=[]\n",
    "        \n",
    "        for suit in suits:\n",
    "            for rank in ranks:\n",
    "                \n",
    "                created_cards=Card(suit,rank)\n",
    "                self.all_cards.append(created_cards)\n",
    "                \n",
    "    def shuffle(self):\n",
    "        \n",
    "        random.shuffle(self.all_cards)\n",
    "        \n",
    "    def deal_one(self):\n",
    "        return self.all_cards.pop()"
   ]
  },
  {
   "cell_type": "code",
   "execution_count": 4,
   "metadata": {},
   "outputs": [],
   "source": [
    "class Player:\n",
    "    \n",
    "    def __init__(self,name):\n",
    "        self.name=name\n",
    "        self.all_cards=[]\n",
    "        \n",
    "    def rem_cards(self):\n",
    "        return self.all_cards.pop(0)\n",
    "        \n",
    "    def add_cards(self,new_cards):\n",
    "        if type(new_cards)==type([]):\n",
    "            #list of multiple crd object\n",
    "            self.all_cards.extend(new_cards)\n",
    "        else:\n",
    "            #single cad objects\n",
    "            self.all_cards.append(new_cards)\n",
    "    def __str__(self):\n",
    "        return f' player {self.name} has {len(self.all_cards)} cards'"
   ]
  },
  {
   "cell_type": "code",
   "execution_count": 5,
   "metadata": {},
   "outputs": [],
   "source": [
    "#game logic1\n",
    "\n",
    "Player_one = Player('One')\n",
    "Player_two=Player('Two')\n",
    "\n",
    "new_decko=Deck()\n",
    "new_decko.shuffle()\n",
    "\n",
    "for x in range(26):\n",
    "    Player_one.add_cards(new_decko.deal_one())\n",
    "    Player_two.add_cards(new_decko.deal_one())"
   ]
  },
  {
   "cell_type": "code",
   "execution_count": 6,
   "metadata": {},
   "outputs": [],
   "source": [
    "game_on= True"
   ]
  },
  {
   "cell_type": "code",
   "execution_count": 7,
   "metadata": {},
   "outputs": [
    {
     "name": "stdout",
     "output_type": "stream",
     "text": [
      "round numbe 1\n",
      "round numbe 2\n",
      "round numbe 3\n",
      "round numbe 4\n",
      "round numbe 5\n",
      "round numbe 6\n",
      "round numbe 7\n",
      "round numbe 8\n",
      "round numbe 9\n",
      "round numbe 10\n",
      "round numbe 11\n",
      "War!!\n",
      "round numbe 12\n",
      "round numbe 13\n",
      "round numbe 14\n",
      "round numbe 15\n",
      "round numbe 16\n",
      "round numbe 17\n",
      "round numbe 18\n",
      "round numbe 19\n",
      "round numbe 20\n",
      "round numbe 21\n",
      "round numbe 22\n",
      "round numbe 23\n",
      "round numbe 24\n",
      "War!!\n",
      "War!!\n",
      "round numbe 25\n",
      "War!!\n",
      "player1 unable to declare war\n",
      "player2 wins!!!\n"
     ]
    }
   ],
   "source": [
    "Round=0\n",
    "\n",
    "while game_on:\n",
    "    Round+=1\n",
    "    print(f\"round numbe {Round}\")\n",
    "    if len(Player_one.all_cards)==0:\n",
    "        print(\"Player 2 wins, player one out of cards\")\n",
    "        game_on=False\n",
    "        break\n",
    "    \n",
    "    if len(Player_two.all_cards)==0:\n",
    "        print(\"Player 1 wins, player two out of cards\")\n",
    "        game_on=False\n",
    "        break\n",
    "        \n",
    "    player_one_cards=[]\n",
    "    player_one_cards.append(Player_one.rem_cards())\n",
    "\n",
    "    player_two_cards=[]\n",
    "    player_two_cards.append(Player_two.rem_cards())\n",
    "\n",
    "\n",
    "#while at_war()\n",
    "    at_war=True\n",
    "    while at_war:\n",
    "        if player_one_cards[-1].value<player_two_cards[-1].value:\n",
    "            \n",
    "            Player_two.add_cards(player_one_cards)\n",
    "            Player_two.add_cards(player_two_cards)\n",
    "            \n",
    "            at_war=False\n",
    "            \n",
    "        elif player_one_cards[-1].value>player_two_cards[-1].value:\n",
    "            \n",
    "            Player_one.add_cards(player_one_cards)\n",
    "            Player_one.add_cards(player_two_cards)\n",
    "\n",
    "            at_war=False\n",
    "        \n",
    "        else:\n",
    "            print(\"War!!\")\n",
    "            \n",
    "            if len(Player_one.all_cards)<3:\n",
    "                print(\"player1 unable to declare war\")\n",
    "                print(\"player2 wins!!!\")\n",
    "                \n",
    "                game_on=False\n",
    "                break\n",
    "                \n",
    "            elif len(Player_two.all_cards)<3:\n",
    "                print(\"player2 unable to declare war\")\n",
    "                print(\"player1 wins!!!\")\n",
    "                \n",
    "                game_on=False\n",
    "                break\n",
    "                \n",
    "            else:\n",
    "                for num in range(3):\n",
    "                    player_one_cards.append(Player_one.rem_cards())\n",
    "                    player_one_cards.append(Player_one.rem_cards())"
   ]
  },
  {
   "cell_type": "code",
   "execution_count": 8,
   "metadata": {},
   "outputs": [
    {
     "data": {
      "text/plain": [
       "'C:\\\\Users\\\\Sasti Randi'"
      ]
     },
     "execution_count": 8,
     "metadata": {},
     "output_type": "execute_result"
    }
   ],
   "source": [
    "pwd\n"
   ]
  },
  {
   "cell_type": "code",
   "execution_count": null,
   "metadata": {},
   "outputs": [],
   "source": []
  }
 ],
 "metadata": {
  "kernelspec": {
   "display_name": "Python 3",
   "language": "python",
   "name": "python3"
  },
  "language_info": {
   "codemirror_mode": {
    "name": "ipython",
    "version": 3
   },
   "file_extension": ".py",
   "mimetype": "text/x-python",
   "name": "python",
   "nbconvert_exporter": "python",
   "pygments_lexer": "ipython3",
   "version": "3.7.3"
  }
 },
 "nbformat": 4,
 "nbformat_minor": 2
}
